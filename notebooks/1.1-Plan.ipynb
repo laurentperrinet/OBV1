{
 "cells": [
  {
   "cell_type": "markdown",
   "metadata": {},
   "source": [
    "## Plan du mémoire\n",
    "\n",
    "Dans un premier temps, nous traiterons des réseaux de neurones artificiels, de leur implémentation ainsi que de l'étude de leurs comportements. Nous y étudierons notamment le réseau récurrent aléatoire et tenterons de mettre en évidence certains de ces états, notamment l'état balancé. Ensuite, nous étudierons le ring, un réseau récurrent aléatoire disposant d'une certaine organisation de neurones. Nous tenterons alors de montrer que ce réseau est un modèle satisfaisant du codage de l'orientation au sein du cortex visuel primaire."
   ]
  }
 ],
 "metadata": {
  "kernelspec": {
   "display_name": "Python 3",
   "language": "python",
   "name": "python3"
  },
  "language_info": {
   "codemirror_mode": {
    "name": "ipython",
    "version": 3
   },
   "file_extension": ".py",
   "mimetype": "text/x-python",
   "name": "python",
   "nbconvert_exporter": "python",
   "pygments_lexer": "ipython3",
   "version": "3.5.2"
  },
  "widgets": {
   "state": {},
   "version": "1.1.2"
  }
 },
 "nbformat": 4,
 "nbformat_minor": 0
}
